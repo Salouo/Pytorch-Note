{
 "cells": [
  {
   "cell_type": "markdown",
   "id": "6bb717d4-9522-48d6-9813-ce2cbc7fdcdf",
   "metadata": {},
   "source": [
    "## sys.argv\n",
    "\n",
    "**sys** is one of Python's standard library modules, used for accessing variables and functions related to the Python interpreter.\n",
    "\n",
    "**sys.argv** is a list in **sys**, specifically designed to retrieve command-line arguments."
   ]
  },
  {
   "cell_type": "markdown",
   "id": "28550e04-85cc-486c-bc1e-0d0cac01615a",
   "metadata": {},
   "source": [
    "Assume that we have a script called \"test.py\", and the content is shown as below."
   ]
  },
  {
   "cell_type": "code",
   "execution_count": 5,
   "id": "84e9a88b-8db7-49f3-a0b9-c9649697b2de",
   "metadata": {},
   "outputs": [
    {
     "ename": "ModuleNotFoundError",
     "evalue": "No module named 'open3d'",
     "output_type": "error",
     "traceback": [
      "\u001b[0;31m---------------------------------------------------------------------------\u001b[0m",
      "\u001b[0;31mModuleNotFoundError\u001b[0m                       Traceback (most recent call last)",
      "Cell \u001b[0;32mIn[5], line 3\u001b[0m\n\u001b[1;32m      1\u001b[0m \u001b[38;5;66;03m# test.py\u001b[39;00m\n\u001b[1;32m      2\u001b[0m \u001b[38;5;28;01mimport\u001b[39;00m \u001b[38;5;21;01msys\u001b[39;00m\n\u001b[0;32m----> 3\u001b[0m \u001b[38;5;28;01mimport\u001b[39;00m \u001b[38;5;21;01mopen3d\u001b[39;00m \u001b[38;5;28;01mas\u001b[39;00m \u001b[38;5;21;01mo3d\u001b[39;00m\n\u001b[1;32m      6\u001b[0m filename \u001b[38;5;241m=\u001b[39m sys\u001b[38;5;241m.\u001b[39margv[\u001b[38;5;241m1\u001b[39m]\n\u001b[1;32m      7\u001b[0m pcd \u001b[38;5;241m=\u001b[39m o3d\u001b[38;5;241m.\u001b[39mio\u001b[38;5;241m.\u001b[39mread_point_cloud(filename)\n",
      "\u001b[0;31mModuleNotFoundError\u001b[0m: No module named 'open3d'"
     ]
    }
   ],
   "source": [
    "# test.py\n",
    "import sys\n",
    "\n",
    "# print all the command-line arguments\n",
    "print(\"All arguments:\", sys.argv)\n",
    "\n",
    "# print the name of script(or .py file)\n",
    "print(\"Script name:\", sys.argv[0])\n",
    "\n",
    "# print the first argument of the command\n",
    "if len(sys.argv) > 1:\n",
    "    print(\"First argument:\", sys.argv[1])\n",
    "if len(sys.argv) > 2:\n",
    "    print(\"Second argument:\", sys.argv[2])\n",
    "else:\n",
    "    print(\"No additional arguments provided.\")"
   ]
  },
  {
   "cell_type": "markdown",
   "id": "24338545-9b3e-44ee-a3ad-26e6ab377b7a",
   "metadata": {},
   "source": [
    "We now run a command like this:"
   ]
  },
  {
   "cell_type": "raw",
   "id": "229db177-9730-47be-b60f-b002f5601dd1",
   "metadata": {},
   "source": [
    "python test.py ../fragment.ply hello"
   ]
  },
  {
   "cell_type": "code",
   "execution_count": null,
   "id": "4d3a8151-2c7b-4127-9295-eed22a0bd296",
   "metadata": {},
   "outputs": [],
   "source": [
    "All arguments: ['test.py', '../fragment.ply', 'hello'] # Here '../fragment.ply' is a relative path\n",
    "Script name: test.py\n",
    "First argument: ../fragment.ply"
   ]
  }
 ],
 "metadata": {
  "kernelspec": {
   "display_name": "Python (python39)",
   "language": "python",
   "name": "python39"
  },
  "language_info": {
   "codemirror_mode": {
    "name": "ipython",
    "version": 3
   },
   "file_extension": ".py",
   "mimetype": "text/x-python",
   "name": "python",
   "nbconvert_exporter": "python",
   "pygments_lexer": "ipython3",
   "version": "3.9.20"
  }
 },
 "nbformat": 4,
 "nbformat_minor": 5
}
