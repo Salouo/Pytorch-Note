{
 "cells": [
  {
   "cell_type": "markdown",
   "id": "dd80e503-f582-49bc-a45d-a00397c3d95b",
   "metadata": {},
   "source": [
    "# Command-Line Codes for the MacOS System"
   ]
  },
  {
   "cell_type": "markdown",
   "id": "42431cd6-c906-49ec-a15f-8e6354ece7d1",
   "metadata": {},
   "source": [
    "## 1. Enter a folder"
   ]
  },
  {
   "cell_type": "raw",
   "id": "c8c90246-1764-4062-8963-a502f41c4d67",
   "metadata": {},
   "source": [
    "cd your_path"
   ]
  },
  {
   "cell_type": "markdown",
   "id": "d1ee1812-32f8-4267-b2b7-06bd7f9f56ff",
   "metadata": {},
   "source": [
    "## 2. Open a File in Text Format"
   ]
  },
  {
   "cell_type": "raw",
   "id": "4ee1b4f0-5812-419b-ad0a-b6c7a7353d6c",
   "metadata": {},
   "source": [
    "open -e example.txt"
   ]
  },
  {
   "cell_type": "markdown",
   "id": "06624bd1-509c-4caf-b995-94b24d8611e1",
   "metadata": {},
   "source": [
    "## 3. Go up levers in the directory structure"
   ]
  },
  {
   "cell_type": "raw",
   "id": "2b1c6bdb-99ac-4031-b5ef-713ccee2c093",
   "metadata": {},
   "source": [
    "# go up one level\n",
    "cd ..\n",
    "\n",
    "# go up several level\n",
    "cd ../../\n",
    "\n",
    "# go up to base\n",
    "cd ~"
   ]
  }
 ],
 "metadata": {
  "kernelspec": {
   "display_name": "Python (python39)",
   "language": "python",
   "name": "python39"
  },
  "language_info": {
   "codemirror_mode": {
    "name": "ipython",
    "version": 3
   },
   "file_extension": ".py",
   "mimetype": "text/x-python",
   "name": "python",
   "nbconvert_exporter": "python",
   "pygments_lexer": "ipython3",
   "version": "3.9.20"
  }
 },
 "nbformat": 4,
 "nbformat_minor": 5
}
