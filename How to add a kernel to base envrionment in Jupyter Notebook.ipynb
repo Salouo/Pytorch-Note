{
 "cells": [
  {
   "cell_type": "markdown",
   "id": "4da2267e-a6de-4a01-9999-cbf84f79b247",
   "metadata": {},
   "source": [
    "# How to add a kernel to base in Jupyter Notebook?"
   ]
  },
  {
   "cell_type": "markdown",
   "id": "21a7258f-e945-4935-a007-aec9f1a6bbb5",
   "metadata": {},
   "source": [
    "## 1. Activate the virtual environment you want to register to"
   ]
  },
  {
   "cell_type": "markdown",
   "id": "4c88551a-884d-47e2-8823-6580284bc8e0",
   "metadata": {},
   "source": [
    "conda activate my_env_name"
   ]
  },
  {
   "cell_type": "markdown",
   "id": "a2c9f3e7-d56b-47d4-b228-55b6c4b6435a",
   "metadata": {},
   "source": [
    "## 2. Install **ipykernel** to this virtual environment"
   ]
  },
  {
   "cell_type": "markdown",
   "id": "3ede0450-cfb2-406a-b476-aed1c412f289",
   "metadata": {},
   "source": [
    "conda install ipykernel"
   ]
  },
  {
   "cell_type": "markdown",
   "id": "f79695c7-3c2f-48be-8094-707a18f4a6b7",
   "metadata": {},
   "source": [
    "## 3. Register the local kernel to this virtual environment"
   ]
  },
  {
   "cell_type": "markdown",
   "id": "f9d15428-e468-4e29-8813-2ec2446d5d55",
   "metadata": {},
   "source": [
    "python -m ipykernel install --user --name my_env_name --display-name \"Python (my_env_name)\""
   ]
  },
  {
   "cell_type": "markdown",
   "id": "e7f354b9-cf27-4b4b-9a42-2c9dfb3af363",
   "metadata": {},
   "source": [
    "## 4. Go back to base environment"
   ]
  },
  {
   "cell_type": "markdown",
   "id": "8f8965ee-9d2c-4ce9-910b-a4f67d1f71c3",
   "metadata": {},
   "source": [
    "conda deactivate"
   ]
  },
  {
   "cell_type": "markdown",
   "id": "b13cf94a-f9a4-40ef-8594-ca613ef7f7c3",
   "metadata": {},
   "source": [
    "## 5. All is done, and open the jupyter notebook"
   ]
  }
 ],
 "metadata": {
  "kernelspec": {
   "display_name": "Python (python39)",
   "language": "python",
   "name": "python39"
  },
  "language_info": {
   "codemirror_mode": {
    "name": "ipython",
    "version": 3
   },
   "file_extension": ".py",
   "mimetype": "text/x-python",
   "name": "python",
   "nbconvert_exporter": "python",
   "pygments_lexer": "ipython3",
   "version": "3.9.20"
  }
 },
 "nbformat": 4,
 "nbformat_minor": 5
}
